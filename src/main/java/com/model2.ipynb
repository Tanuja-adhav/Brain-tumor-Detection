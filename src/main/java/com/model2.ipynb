{
 "cells": [
  {
   "cell_type": "code",
   "execution_count": null,
   "id": "4b02d35a-8701-4c70-a987-8a3018bcdd7f",
   "metadata": {},
   "outputs": [
    {
     "name": "stdout",
     "output_type": "stream",
     "text": [
      "✅ Dataset Loaded\n",
      "✅ Labels Encoded\n",
      "✅ Dataset Split\n",
      "✅ Features Scaled\n"
     ]
    }
   ],
   "source": [
    "import os\n",
    "import numpy as np\n",
    "from skimage.io import imread\n",
    "from skimage.transform import resize\n",
    "from sklearn.preprocessing import LabelEncoder, StandardScaler\n",
    "from sklearn.model_selection import train_test_split\n",
    "from sklearn.ensemble import RandomForestClassifier\n",
    "import joblib\n",
    "\n",
    "# -------- 1. Load Dataset --------\n",
    "def load_dataset(image_folder):\n",
    "    images = []\n",
    "    labels = []\n",
    "    classes = os.listdir(image_folder)\n",
    "\n",
    "    for label in classes:\n",
    "        label_path = os.path.join(image_folder, label)\n",
    "        if not os.path.isdir(label_path):\n",
    "            continue\n",
    "\n",
    "        for file in os.listdir(label_path):\n",
    "            file_path = os.path.join(label_path, file)\n",
    "\n",
    "            if not file.lower().endswith((\".png\", \".jpg\", \".jpeg\", \".tif\", \".tiff\")):\n",
    "                continue\n",
    "\n",
    "            try:\n",
    "                img = imread(file_path, as_gray=True)\n",
    "                img_resized = resize(img, (128, 128))  # Resize to fixed shape\n",
    "                images.append(img_resized.flatten())   # Flatten to 1D\n",
    "                labels.append(label)\n",
    "            except Exception as e:\n",
    "                print(f\"Skipping {file}: {e}\")\n",
    "\n",
    "    return np.array(images), np.array(labels)\n",
    "\n",
    "# -------- 2. Load & Preprocess --------\n",
    "dataset_path = \"C:\\\\Users\\\\admin\\\\Downloads\\\\Project\\\\Brain\\\\brain-tumor-dataset\"\n",
    "X, y = load_dataset(dataset_path)\n",
    "print(\"✅ Dataset Loaded\")\n",
    "\n",
    "# -------- 3. Encode Labels --------\n",
    "label_encoder = LabelEncoder()\n",
    "y_encoded = label_encoder.fit_transform(y)\n",
    "joblib.dump(label_encoder, \"label_encoder.pkl\")\n",
    "print(\"✅ Labels Encoded\")\n",
    "\n",
    "# -------- 4. Split Dataset --------\n",
    "X_train, X_test, y_train, y_test = train_test_split(X, y_encoded, test_size=0.2, random_state=42)\n",
    "print(\"✅ Dataset Split\")\n",
    "\n",
    "# -------- 5. Scale Features --------\n",
    "scaler = StandardScaler()\n",
    "X_train_scaled = scaler.fit_transform(X_train)\n",
    "X_test_scaled = scaler.transform(X_test)\n",
    "joblib.dump(scaler, \"scaler.pkl\")\n",
    "print(\"✅ Features Scaled\")\n",
    "\n",
    "# -------- 6. Train Model --------\n",
    "model = RandomForestClassifier(n_estimators=100, random_state=42)\n",
    "model.fit(X_train_scaled, y_train)\n",
    "joblib.dump(model, \"brain_tumor_model.pkl\")\n",
    "print(\"✅ Model Trained and Saved\")\n"
   ]
  },
  {
   "cell_type": "code",
   "execution_count": null,
   "id": "ef7976f0-741b-4d65-ad8c-93c4ac280ff1",
   "metadata": {},
   "outputs": [],
   "source": []
  }
 ],
 "metadata": {
  "kernelspec": {
   "display_name": "Python 3 (ipykernel)",
   "language": "python",
   "name": "python3"
  },
  "language_info": {
   "codemirror_mode": {
    "name": "ipython",
    "version": 3
   },
   "file_extension": ".py",
   "mimetype": "text/x-python",
   "name": "python",
   "nbconvert_exporter": "python",
   "pygments_lexer": "ipython3",
   "version": "3.12.7"
  }
 },
 "nbformat": 4,
 "nbformat_minor": 5
}
